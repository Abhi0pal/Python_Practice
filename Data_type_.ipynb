{
  "nbformat": 4,
  "nbformat_minor": 0,
  "metadata": {
    "colab": {
      "provenance": [],
      "authorship_tag": "ABX9TyN+KhAA4ruQ5ndpra78XwIN",
      "include_colab_link": true
    },
    "kernelspec": {
      "name": "python3",
      "display_name": "Python 3"
    },
    "language_info": {
      "name": "python"
    }
  },
  "cells": [
    {
      "cell_type": "markdown",
      "metadata": {
        "id": "view-in-github",
        "colab_type": "text"
      },
      "source": [
        "<a href=\"https://colab.research.google.com/github/Abhi0pal/Python_Practice/blob/main/Data_type_.ipynb\" target=\"_parent\"><img src=\"https://colab.research.google.com/assets/colab-badge.svg\" alt=\"Open In Colab\"/></a>"
      ]
    },
    {
      "cell_type": "code",
      "execution_count": null,
      "metadata": {
        "colab": {
          "base_uri": "https://localhost:8080/",
          "height": 161
        },
        "id": "jBxduxKetv7X",
        "outputId": "7d338241-5100-4b00-e90c-4ef77659cec9"
      },
      "outputs": [
        {
          "output_type": "error",
          "ename": "NameError",
          "evalue": "name 'n' is not defined",
          "traceback": [
            "\u001b[0;31m---------------------------------------------------------------------------\u001b[0m",
            "\u001b[0;31mNameError\u001b[0m                                 Traceback (most recent call last)",
            "\u001b[0;32m<ipython-input-1-7a5ac85cdb9e>\u001b[0m in \u001b[0;36m<cell line: 2>\u001b[0;34m()\u001b[0m\n\u001b[1;32m      1\u001b[0m \u001b[0ma\u001b[0m\u001b[0;34m=\u001b[0m\u001b[0;34m\"harry us a good boy \\n this ia abhishek pal\"\u001b[0m\u001b[0;34m\u001b[0m\u001b[0;34m\u001b[0m\u001b[0m\n\u001b[0;32m----> 2\u001b[0;31m \u001b[0mprint\u001b[0m\u001b[0;34m(\u001b[0m\u001b[0mn\u001b[0m\u001b[0;34m)\u001b[0m\u001b[0;34m\u001b[0m\u001b[0;34m\u001b[0m\u001b[0m\n\u001b[0m",
            "\u001b[0;31mNameError\u001b[0m: name 'n' is not defined"
          ]
        }
      ],
      "source": [
        "a=\"harry us a good boy \\n this ia abhishek pal\"\n",
        "print(a)"
      ]
    },
    {
      "cell_type": "markdown",
      "source": [],
      "metadata": {
        "id": "0V_TmhXcu3QP"
      }
    },
    {
      "cell_type": "code",
      "source": [
        "Name=input(\"Enter your name\")\n",
        "print(f\"My name is {Name}\")"
      ],
      "metadata": {
        "colab": {
          "base_uri": "https://localhost:8080/"
        },
        "id": "zqcwCpa4u1D1",
        "outputId": "d425afbc-bb81-4f23-f028-ae66aa38e97d"
      },
      "execution_count": null,
      "outputs": [
        {
          "output_type": "stream",
          "name": "stdout",
          "text": [
            "Enter your namepal\n",
            "My name is pal\n"
          ]
        }
      ]
    },
    {
      "cell_type": "markdown",
      "source": [
        "Triple Quote String\n"
      ],
      "metadata": {
        "id": "Z35PxNMYvxEU"
      }
    },
    {
      "cell_type": "code",
      "source": [
        "letter='''This is   abhuieg\n",
        "         pal'''\n",
        "print(letter)"
      ],
      "metadata": {
        "colab": {
          "base_uri": "https://localhost:8080/"
        },
        "id": "rU6-v9cOv0ra",
        "outputId": "42f48ad1-c669-44f5-c17b-f7d6c79db05e"
      },
      "execution_count": null,
      "outputs": [
        {
          "output_type": "stream",
          "name": "stdout",
          "text": [
            "This is   abhuieg\n",
            "         pal\n"
          ]
        }
      ]
    },
    {
      "cell_type": "markdown",
      "source": [],
      "metadata": {
        "id": "CsgQmlomu2K1"
      }
    },
    {
      "cell_type": "code",
      "source": [
        "from os import replace\n",
        "Nomination='''Dear <|Name|>,\n",
        "You are  Selected  on <|SIH|>\n",
        "on the <|Date|>'''\n",
        "print(Nomination.replace(\"<|Name|>\",\"Abhishek\").replace(\"<|SIH|>\",\"Smart India HAckathon\").replace(\"<|Date|>\",\"25/05/10\"))"
      ],
      "metadata": {
        "colab": {
          "base_uri": "https://localhost:8080/"
        },
        "id": "nibDakRswRRK",
        "outputId": "fd65e46c-24de-4e79-9513-1d256bcfb688"
      },
      "execution_count": null,
      "outputs": [
        {
          "output_type": "stream",
          "name": "stdout",
          "text": [
            "Dear Abhishek,\n",
            "You are  Selected  on Smart India HAckathon \n",
            "on the 25/05/10\n"
          ]
        }
      ]
    },
    {
      "cell_type": "markdown",
      "source": [
        "List And Tuples"
      ],
      "metadata": {
        "id": "JHBgByc40syU"
      }
    },
    {
      "cell_type": "code",
      "source": [
        "l=[\"apple\",\"lol\",\"Happy\",4,2,0,False]\n",
        "l.append(\"Last\")\n",
        "l.reverse()\n",
        "print(l)"
      ],
      "metadata": {
        "colab": {
          "base_uri": "https://localhost:8080/"
        },
        "id": "YmZNqI_O0zFu",
        "outputId": "0bb573ad-8a43-4d54-af03-0ab71bfe6373"
      },
      "execution_count": null,
      "outputs": [
        {
          "output_type": "stream",
          "name": "stdout",
          "text": [
            "['Last', False, 0, 2, 4, 'Happy', 'lol', 'apple']\n"
          ]
        }
      ]
    },
    {
      "cell_type": "code",
      "source": [],
      "metadata": {
        "id": "g7sw2Ukw0y4n"
      },
      "execution_count": null,
      "outputs": []
    },
    {
      "cell_type": "markdown",
      "source": [
        "Tuple\n"
      ],
      "metadata": {
        "id": "hyheIl9H8K63"
      }
    },
    {
      "cell_type": "code",
      "source": [
        "a=(1,2,3,4,5)\n",
        "# print(type(l))\n",
        "print(2 in a)"
      ],
      "metadata": {
        "colab": {
          "base_uri": "https://localhost:8080/"
        },
        "id": "JATmi4n_8Mx5",
        "outputId": "55a8baac-e590-45ee-c5c4-b81141267824"
      },
      "execution_count": 2,
      "outputs": [
        {
          "output_type": "stream",
          "name": "stdout",
          "text": [
            "True\n"
          ]
        }
      ]
    },
    {
      "cell_type": "code",
      "source": [
        "f1=[]\n",
        "a=int(input(\"Enter\"))\n",
        "f1.append(a)\n",
        "b=int(input(\"Enter\"))\n",
        "f1.append(b)\n",
        "c=int(input(\"Enter\"))\n",
        "f1.append(c)\n",
        "print(f1)\n",
        "f1.sort()\n",
        "print(f1)"
      ],
      "metadata": {
        "colab": {
          "base_uri": "https://localhost:8080/"
        },
        "id": "igAGot6L3UnG",
        "outputId": "5b12a0fa-c894-4b66-c5e5-6d55187ed8f9"
      },
      "execution_count": 8,
      "outputs": [
        {
          "output_type": "stream",
          "name": "stdout",
          "text": [
            "Enter3\n",
            "Enter3\n",
            "Enter4\n",
            "[3, 3, 4]\n",
            "[3, 3, 4]\n"
          ]
        }
      ]
    },
    {
      "cell_type": "markdown",
      "source": [
        "Tuple and String is immutable in nature"
      ],
      "metadata": {
        "id": "r7Sf26Uz5Lf7"
      }
    },
    {
      "cell_type": "markdown",
      "source": [
        "List\n"
      ],
      "metadata": {
        "id": "qlSULPA_5ZF9"
      }
    },
    {
      "cell_type": "markdown",
      "source": [],
      "metadata": {
        "id": "WQqLkwWx8L5W"
      }
    },
    {
      "cell_type": "code",
      "source": [
        "l=[1,2,3,4,4,4,44,4,4]\n",
        "# print(sum(l))\n",
        "print(l.count(4))"
      ],
      "metadata": {
        "colab": {
          "base_uri": "https://localhost:8080/"
        },
        "id": "5ER3X-885R7Y",
        "outputId": "40da0202-d771-488e-cee0-5245dc9869ea"
      },
      "execution_count": 11,
      "outputs": [
        {
          "output_type": "stream",
          "name": "stdout",
          "text": [
            "5\n"
          ]
        }
      ]
    },
    {
      "cell_type": "markdown",
      "source": [
        "**Dictionary and Sets**\n",
        "Dictionarynis mutable in nature"
      ],
      "metadata": {
        "id": "ue1oH5nH6G5V"
      }
    },
    {
      "cell_type": "code",
      "source": [
        "marks={\n",
        "    \"Rahul\":23,\n",
        "    \"Karan\":34,\n",
        "    \"Abhishek\":90\n",
        "\n",
        "}"
      ],
      "metadata": {
        "id": "GYR3v2c_59cR"
      },
      "execution_count": 12,
      "outputs": []
    },
    {
      "cell_type": "code",
      "source": [
        "# print(type(marks[\"Abhishek\"]))\n",
        "# print(marks.keys())\n",
        "marks.update({\"Karan\":99,\"Pakistan\":\"Mc\"})\n",
        "print(marks.get(\"Karan\"))\n"
      ],
      "metadata": {
        "colab": {
          "base_uri": "https://localhost:8080/"
        },
        "id": "Pp4nxBVq62xb",
        "outputId": "cf8c0ae3-3e79-40a5-c9d4-028146ac0a72"
      },
      "execution_count": 25,
      "outputs": [
        {
          "output_type": "stream",
          "name": "stdout",
          "text": [
            "99\n"
          ]
        }
      ]
    },
    {
      "cell_type": "markdown",
      "source": [
        "Sets"
      ],
      "metadata": {
        "id": "xJOIeqe09aKO"
      }
    },
    {
      "cell_type": "code",
      "source": [
        "a=set() #this is empty Set\n",
        "a={1,2,3,4,5}\n",
        "print(type(a),a)"
      ],
      "metadata": {
        "colab": {
          "base_uri": "https://localhost:8080/"
        },
        "id": "hg0TqMQo9b0n",
        "outputId": "ff86d4f4-e337-4a09-8bfe-ed95a422028e"
      },
      "execution_count": 31,
      "outputs": [
        {
          "output_type": "stream",
          "name": "stdout",
          "text": [
            "<class 'set'> {1, 2, 3, 4, 5}\n"
          ]
        }
      ]
    },
    {
      "cell_type": "markdown",
      "source": [
        "Union and intersection"
      ],
      "metadata": {
        "id": "O5TxLuuy-_bL"
      }
    },
    {
      "cell_type": "code",
      "source": [
        "s1={1,2,4}\n",
        "s2={1,2,4,5,6,7}\n",
        "print(s1.union(s2))\n",
        "print(s1.intersection(s2)) #common ele in both set"
      ],
      "metadata": {
        "colab": {
          "base_uri": "https://localhost:8080/"
        },
        "id": "rSNStr21_Bx8",
        "outputId": "57fcbb98-0656-4fb0-aba4-aacb8ba9e185"
      },
      "execution_count": 32,
      "outputs": [
        {
          "output_type": "stream",
          "name": "stdout",
          "text": [
            "{1, 2, 4, 5, 6, 7}\n",
            "{1, 2, 4}\n"
          ]
        }
      ]
    }
  ]
}