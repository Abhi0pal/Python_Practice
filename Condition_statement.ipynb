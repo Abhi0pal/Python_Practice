{
  "nbformat": 4,
  "nbformat_minor": 0,
  "metadata": {
    "colab": {
      "provenance": [],
      "authorship_tag": "ABX9TyM/0p/zApLOObTRmqbDZ/JS"
    },
    "kernelspec": {
      "name": "python3",
      "display_name": "Python 3"
    },
    "language_info": {
      "name": "python"
    }
  },
  "cells": [
    {
      "cell_type": "markdown",
      "source": [
        "If and Else"
      ],
      "metadata": {
        "id": "C2P9Wz51Cre2"
      }
    },
    {
      "cell_type": "code",
      "execution_count": 5,
      "metadata": {
        "colab": {
          "base_uri": "https://localhost:8080/"
        },
        "id": "gfmEqn9iCKSu",
        "outputId": "7f610d5b-79bd-418c-eb8a-2f5b63a52d16"
      },
      "outputs": [
        {
          "output_type": "stream",
          "name": "stdout",
          "text": [
            "Enter ur age12\n",
            "Below\n",
            "Program End\n"
          ]
        }
      ],
      "source": [
        "a=int(input(\"Enter ur age\"))\n",
        "if(a>=18):\n",
        "  print(\"Above\")\n",
        "elif(a<0):\n",
        "  print(\"Bc\")\n",
        "else:\n",
        "  print(\"Below\")\n",
        "print(\"Program End\")"
      ]
    },
    {
      "cell_type": "markdown",
      "source": [
        "Multiple If Statement"
      ],
      "metadata": {
        "id": "--6Zv4ryEg3B"
      }
    },
    {
      "cell_type": "code",
      "source": [
        "num=int(input(\"Enter your number\"))\n",
        "#this is independant if\n",
        "if(num%2==0):\n",
        "  print(\"Even\")\n",
        "#this is also indepandant\n",
        "if(num>=18):\n",
        "  print(\"greater than 18\")\n",
        "#this indepandant\n",
        "if(num>20):\n",
        "  print(\"number greater than 20\")\n",
        "elif(num>=30):\n",
        "  print(\"number greater than 30\")\n",
        "else:\n",
        "  print(\"less than 30\")\n",
        "  #those Statement which are indipandant run indipandant"
      ],
      "metadata": {
        "colab": {
          "base_uri": "https://localhost:8080/"
        },
        "id": "Lez1BshXEsog",
        "outputId": "8d0817a2-11c8-44d9-ada7-463d10c5c836"
      },
      "execution_count": 6,
      "outputs": [
        {
          "output_type": "stream",
          "name": "stdout",
          "text": [
            "Enter your number50\n",
            "Even\n",
            "greater than 18\n",
            "number greater than 20\n"
          ]
        }
      ]
    },
    {
      "cell_type": "markdown",
      "source": [
        "**For-Loop Statement**"
      ],
      "metadata": {
        "id": "ML-oipk_Gvo8"
      }
    },
    {
      "cell_type": "code",
      "source": [
        "for i in range(3,10+1):\n",
        "  print(i)\n",
        "\n"
      ],
      "metadata": {
        "colab": {
          "base_uri": "https://localhost:8080/"
        },
        "id": "fCIHrGpfGu0y",
        "outputId": "72484a9f-a7bb-4f02-aea2-3996a6630261"
      },
      "execution_count": 9,
      "outputs": [
        {
          "output_type": "stream",
          "name": "stdout",
          "text": [
            "3\n",
            "4\n",
            "5\n",
            "6\n",
            "7\n",
            "8\n",
            "9\n",
            "10\n"
          ]
        }
      ]
    },
    {
      "cell_type": "markdown",
      "source": [
        "This is while loop"
      ],
      "metadata": {
        "id": "GJ5yxN8KHfqi"
      }
    },
    {
      "cell_type": "code",
      "source": [
        "i=3\n",
        "while(i<10):\n",
        "  print(i)\n",
        "  i+=1;"
      ],
      "metadata": {
        "colab": {
          "base_uri": "https://localhost:8080/"
        },
        "id": "p_TVgi_DHh2O",
        "outputId": "90dc2d6f-7c48-4877-814c-25a75b33ad33"
      },
      "execution_count": 13,
      "outputs": [
        {
          "output_type": "stream",
          "name": "stdout",
          "text": [
            "3\n",
            "4\n",
            "5\n",
            "6\n",
            "7\n",
            "8\n",
            "9\n"
          ]
        }
      ]
    },
    {
      "cell_type": "code",
      "source": [
        "# range(start,end,step_size)\n",
        "for i in range(0,50,2):\n",
        "  print(i)"
      ],
      "metadata": {
        "colab": {
          "base_uri": "https://localhost:8080/"
        },
        "id": "wdNapS5iLNT2",
        "outputId": "7dfaf9a0-f44a-4b48-c44a-b591c9f99499"
      },
      "execution_count": 14,
      "outputs": [
        {
          "output_type": "stream",
          "name": "stdout",
          "text": [
            "0\n",
            "2\n",
            "4\n",
            "6\n",
            "8\n",
            "10\n",
            "12\n",
            "14\n",
            "16\n",
            "18\n",
            "20\n",
            "22\n",
            "24\n",
            "26\n",
            "28\n",
            "30\n",
            "32\n",
            "34\n",
            "36\n",
            "38\n",
            "40\n",
            "42\n",
            "44\n",
            "46\n",
            "48\n"
          ]
        }
      ]
    },
    {
      "cell_type": "code",
      "source": [
        "#for loop[ in String]\n",
        "s=\"Abhishek\"\n",
        "for i in s:\n",
        "  print(i)\n",
        "#for in List\n",
        "l=[1,2,3,4]\n",
        "for i in l:\n",
        "  print(i)\n",
        "#for loop in Tuple\n",
        "l=(1,2,3,4,5,5)\n",
        "for i in l:\n",
        "  print(i)"
      ],
      "metadata": {
        "colab": {
          "base_uri": "https://localhost:8080/"
        },
        "id": "cEaSXaHDMWJG",
        "outputId": "45f9bd67-e941-4c6a-baf8-e5efcb3807c0"
      },
      "execution_count": 16,
      "outputs": [
        {
          "output_type": "stream",
          "name": "stdout",
          "text": [
            "A\n",
            "b\n",
            "h\n",
            "i\n",
            "s\n",
            "h\n",
            "e\n",
            "k\n",
            "1\n",
            "2\n",
            "3\n",
            "4\n",
            "1\n",
            "2\n",
            "3\n",
            "4\n",
            "5\n",
            "5\n"
          ]
        }
      ]
    },
    {
      "cell_type": "markdown",
      "source": [
        "Pass Statement"
      ],
      "metadata": {
        "id": "BiAB5nSvOh6K"
      }
    },
    {
      "cell_type": "code",
      "source": [
        "# pass statement\n",
        "for i in range(1,10):\n",
        "  pass\n",
        "for i in range(1,10):\n",
        "  print(i)\n",
        "\n",
        ""
      ],
      "metadata": {
        "colab": {
          "base_uri": "https://localhost:8080/"
        },
        "id": "OYUmlRNxOlqs",
        "outputId": "a5d102f1-9ecc-4548-d6c1-2ec5c957528d"
      },
      "execution_count": 19,
      "outputs": [
        {
          "output_type": "stream",
          "name": "stdout",
          "text": [
            "1\n",
            "2\n",
            "3\n",
            "4\n",
            "5\n",
            "6\n",
            "7\n",
            "8\n",
            "9\n"
          ]
        }
      ]
    },
    {
      "cell_type": "markdown",
      "source": [
        "Remember the concept of the F\" String\n",
        "\n",
        "```\n",
        "# This is formatted as code\n",
        "```\n",
        "\n"
      ],
      "metadata": {
        "id": "fl3ExiRCO5fr"
      }
    },
    {
      "cell_type": "markdown",
      "source": [],
      "metadata": {
        "id": "dCek2PifCqPP"
      }
    }
  ]
}